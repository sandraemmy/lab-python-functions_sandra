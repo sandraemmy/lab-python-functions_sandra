{
 "cells": [
  {
   "cell_type": "markdown",
   "id": "25d7736c-ba17-4aff-b6bb-66eba20fbf4e",
   "metadata": {},
   "source": [
    "# Lab | Functions"
   ]
  },
  {
   "cell_type": "markdown",
   "id": "0c581062-8967-4d93-b06e-62833222f930",
   "metadata": {
    "tags": []
   },
   "source": [
    "## Exercise: Managing Customer Orders with Functions\n",
    "\n",
    "\n",
    "Hints for functions:\n",
    "\n",
    "- Consider the input parameters required for each function and their return values.\n",
    "- Utilize function parameters and return values to transfer data between functions.\n",
    "- Test your functions individually to ensure they work correctly.\n",
    "\n",
    "\n"
   ]
  },
  {
   "cell_type": "code",
   "execution_count": 1,
   "id": "1c6f42a4-7720-42e1-8b33-47e0660268b2",
   "metadata": {},
   "outputs": [],
   "source": [
    "#Define a function named `initialize_inventory` that takes `products` as a parameter. Inside the function, implement the code for initializing the inventory dictionary using a loop and user input."
   ]
  },
  {
   "cell_type": "code",
   "execution_count": null,
   "id": "a797b4c0-fc88-41e1-a215-edf529557597",
   "metadata": {},
   "outputs": [
    {
     "name": "stdout",
     "output_type": "stream",
     "text": [
      "Initializing inventory:\n"
     ]
    }
   ],
   "source": [
    "products = [\"t-shirt\", \"mug\", \"hat\", \"book\", \"keychain\"]\n",
    "inventory = {}\n",
    "\n",
    "def initialize_inventory(products):\n",
    "    inventory = {}\n",
    "    print(\"Initializing inventory:\")\n",
    "    for product in products:\n",
    "        quantity = int(input(f\"Enter the initial quantity for the product '{product}': \"))\n",
    "        inventory[product] = quantity\n",
    "    return inventory\n",
    "\n",
    "\n",
    "inventory = initialize_inventory(products)\n",
    "print(\"Initialised inventory :\", inventory)\n"
   ]
  },
  {
   "cell_type": "code",
   "execution_count": null,
   "id": "6acd3c9f-ddab-4b5f-813b-3621a0a575a5",
   "metadata": {},
   "outputs": [],
   "source": [
    "#Define a function named `get_customer_orders` that takes no parameters. Inside the function, implement the code for prompting the user to enter the product names using a loop. \n",
    "#The function should return the `customer_orders` set.\n",
    "\n",
    "def get_customer_orders():\n",
    "    customer_orders=set()\n",
    "       try :\n",
    "            while True:\n",
    "        new_product = input(\"Enter a product name: \").strip().lower()\n",
    "        customer_orders.add(new_product)\n",
    "        print(f\"Product '{new_product}' added.\")\n",
    "        \n",
    "        add_more = input(\"Do you want to add another product (yes/no)? \").strip().lower()\n",
    "        if add_more == \"no\":\n",
    "            print(\"Thank you for your order!\")\n",
    "            break  \n",
    "        except ValueError:\n",
    "                print(\"enter a valid number\")\n",
    "\n",
    "    return customer_orders \n",
    "    \n",
    "customer_orders= get_customer_orders(products)\n",
    "print(customer_orders)"
   ]
  },
  {
   "cell_type": "code",
   "execution_count": null,
   "id": "27500350-9d4c-48e9-8aa2-2955ee877850",
   "metadata": {},
   "outputs": [],
   "source": [
    "# Define a function named `update_inventory` that takes `customer_orders` and `inventory` as parameters. \n",
    "#Inside the function, implement the code for updating the inventory dictionary based on the customer orders.\n",
    "def update_inventory(customer_orders, inventory):\n",
    "    for product in customer_orders:\n",
    "        if product in inventory:\n",
    "            inventory[product] = max(0, inventory[product] - 1)  # Decrease quantity by 1, ensuring it doesn't go below 0\n",
    "        else:\n",
    "            print(f\"The product '{product}' is not in the inventory and cannot be updated.\")\n",
    "\n"
   ]
  },
  {
   "cell_type": "code",
   "execution_count": null,
   "id": "0da04625-dfe2-474f-b57b-c2378d0a7690",
   "metadata": {},
   "outputs": [],
   "source": [
    "#Define a function named `calculate_order_statistics` that takes `customer_orders` and `products` as parameters. \n",
    "#Inside the function, implement the code for calculating the order statistics (total products ordered, and percentage of unique products ordered). The function should return these values.\n",
    "\n",
    "\n",
    "def calculate_order_statistics(customer_orders, products):\n",
    "    total_orders = len(customer_orders)\n",
    "    unique_products_ordered = len([p for p in customer_orders if p in products])\n",
    "    percentage_unique = (unique_products_ordered / len(products)) * 100 if products else 0\n",
    "    return total_orders, percentage_unique\n"
   ]
  },
  {
   "cell_type": "code",
   "execution_count": null,
   "id": "7c597969-cb8d-4b99-b08a-bb4120a64efe",
   "metadata": {},
   "outputs": [],
   "source": [
    "# Define a function named `print_order_statistics` that takes `order_statistics` as a parameter. Inside the function, implement the code for printing the order statistics.\n",
    "def print_order_statistics(order_statistics):\n",
    "    total_orders, percentage_unique = order_statistics\n",
    "    print(f\"\\nOrder Statistics:\")\n",
    "    print(f\"- Total number of products ordered: {total_orders}\")\n",
    "    print(f\"- Percentage of unique products ordered: {percentage_unique:.2f}%\")\n"
   ]
  },
  {
   "cell_type": "code",
   "execution_count": null,
   "id": "0a1c14a1-aa61-4e19-bb7d-71206a19bef2",
   "metadata": {},
   "outputs": [],
   "source": [
    "#Define a function named `print_updated_inventory` that takes `inventory` as a parameter. Inside the function, implement the code for printing the updated inventory.\n",
    "\n",
    "def print_updated_inventory(inventory):\n",
    "    print(\"\\nUpdated Inventory:\")\n",
    "    for product, quantity in inventory.items():\n",
    "        print(f\"- {product}: {quantity} in stock\")\n"
   ]
  },
  {
   "cell_type": "code",
   "execution_count": null,
   "id": "5a55c240-9d7c-42ca-81e1-cc35a8e699ea",
   "metadata": {},
   "outputs": [],
   "source": [
    "#Call the functions in the appropriate sequence to execute the program and manage customer orders\n",
    "\n",
    "def main():\n",
    "    products = [\"t-shirt\", \"mug\", \"hat\", \"book\", \"keychain\"]  # List of available products\n",
    "    inventory = initialize_inventory(products)  # Initialize the inventory\n",
    "    customer_orders = get_customer_orders()  # Get customer orders\n",
    "    update_inventory(customer_orders, inventory)  # Update the inventory\n",
    "    order_statistics = calculate_order_statistics(customer_orders, products)  # Calculate order statistics\n",
    "    print_order_statistics(order_statistics)  # Print the order statistics\n",
    "    print_updated_inventory(inventory)  # Print the updated inventory"
   ]
  },
  {
   "cell_type": "code",
   "execution_count": null,
   "id": "b525c951-ba41-4343-b0d1-cacb6c3325f7",
   "metadata": {},
   "outputs": [],
   "source": [
    "if __name__ == \"__main__\":\n",
    "    main()"
   ]
  },
  {
   "cell_type": "code",
   "execution_count": null,
   "id": "8229cadd-ccc8-4d27-a1c1-178ec8305ae0",
   "metadata": {},
   "outputs": [],
   "source": []
  }
 ],
 "metadata": {
  "kernelspec": {
   "display_name": "Python 3",
   "language": "python",
   "name": "python3"
  },
  "language_info": {
   "codemirror_mode": {
    "name": "ipython",
    "version": 3
   },
   "file_extension": ".py",
   "mimetype": "text/x-python",
   "name": "python",
   "nbconvert_exporter": "python",
   "pygments_lexer": "ipython3",
   "version": "3.8.8"
  }
 },
 "nbformat": 4,
 "nbformat_minor": 5
}
